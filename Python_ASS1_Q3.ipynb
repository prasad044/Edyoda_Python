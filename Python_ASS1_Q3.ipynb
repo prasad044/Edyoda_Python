{
 "cells": [
  {
   "cell_type": "markdown",
   "id": "32d6a2b4",
   "metadata": {},
   "source": [
    "## Assignment-1: Operators | Loops"
   ]
  },
  {
   "cell_type": "markdown",
   "id": "4dd388b2",
   "metadata": {},
   "source": [
    "## Don't go Outside in Odd day"
   ]
  },
  {
   "cell_type": "markdown",
   "id": "2d355fa6",
   "metadata": {},
   "source": [
    "### 3) Write a Python program to count the number of even and odd numbers from a series of numbers."
   ]
  },
  {
   "cell_type": "code",
   "execution_count": 1,
   "id": "1a3e1d1e",
   "metadata": {},
   "outputs": [
    {
     "name": "stdout",
     "output_type": "stream",
     "text": [
      "Number of even numbers : 4\n",
      "Number of odd numbers : 5\n"
     ]
    }
   ],
   "source": [
    "numbers = (11, 22, 31, 46, 54, 67, 70, 81, 99) \n",
    "count_odd = 0\n",
    "count_even = 0\n",
    "for val in numbers:\n",
    "    if val % 2 == 0:\n",
    "        count_even+=1\n",
    "    else:\n",
    "        count_odd+=1\n",
    "print(\"Number of even numbers :\",count_even)\n",
    "print(\"Number of odd numbers :\",count_odd)"
   ]
  },
  {
   "cell_type": "code",
   "execution_count": null,
   "id": "929ce310",
   "metadata": {},
   "outputs": [],
   "source": []
  }
 ],
 "metadata": {
  "kernelspec": {
   "display_name": "Python 3 (ipykernel)",
   "language": "python",
   "name": "python3"
  },
  "language_info": {
   "codemirror_mode": {
    "name": "ipython",
    "version": 3
   },
   "file_extension": ".py",
   "mimetype": "text/x-python",
   "name": "python",
   "nbconvert_exporter": "python",
   "pygments_lexer": "ipython3",
   "version": "3.7.16"
  }
 },
 "nbformat": 4,
 "nbformat_minor": 5
}
