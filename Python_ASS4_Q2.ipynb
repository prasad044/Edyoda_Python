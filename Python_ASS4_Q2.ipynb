{
 "cells": [
  {
   "cell_type": "markdown",
   "id": "1b15dde1",
   "metadata": {},
   "source": [
    "## Assignment-4: Map | Filter | Lambda"
   ]
  },
  {
   "cell_type": "markdown",
   "id": "ca85ea94",
   "metadata": {},
   "source": [
    "### Q2) Write a Python program to triple all numbers of a given list of integers. Use Python map."
   ]
  },
  {
   "cell_type": "code",
   "execution_count": 1,
   "id": "8540b3ca",
   "metadata": {},
   "outputs": [
    {
     "name": "stdout",
     "output_type": "stream",
     "text": [
      "Please enter list:\n",
      "[1, 2, 3, 4, 5, 6, 7]\n",
      "Triple of list numbers:\n",
      " [3, 6, 9, 12, 15, 18, 21]\n"
     ]
    }
   ],
   "source": [
    "def triple(num):\n",
    "    return num * 3\n",
    "\n",
    "list1 = eval(input(\"Please enter list:\\n\"))\n",
    "\n",
    "tripled_numbers = list(map(triple, list1))\n",
    "print(\"Triple of list numbers:\\n\",tripled_numbers)"
   ]
  },
  {
   "cell_type": "code",
   "execution_count": null,
   "id": "2641cad7",
   "metadata": {},
   "outputs": [],
   "source": []
  }
 ],
 "metadata": {
  "kernelspec": {
   "display_name": "Python 3 (ipykernel)",
   "language": "python",
   "name": "python3"
  },
  "language_info": {
   "codemirror_mode": {
    "name": "ipython",
    "version": 3
   },
   "file_extension": ".py",
   "mimetype": "text/x-python",
   "name": "python",
   "nbconvert_exporter": "python",
   "pygments_lexer": "ipython3",
   "version": "3.7.16"
  }
 },
 "nbformat": 4,
 "nbformat_minor": 5
}
