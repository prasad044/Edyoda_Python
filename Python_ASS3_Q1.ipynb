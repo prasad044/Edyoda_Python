{
 "cells": [
  {
   "cell_type": "markdown",
   "id": "27c6ad0b",
   "metadata": {},
   "source": [
    "## Assignment-3: Functions | Modules"
   ]
  },
  {
   "cell_type": "markdown",
   "id": "ba28ade8",
   "metadata": {},
   "source": [
    "###  Q1) Write a Python function to sum all the numbers in a list."
   ]
  },
  {
   "cell_type": "markdown",
   "id": "d1e222c9",
   "metadata": {},
   "source": [
    "#### Solution"
   ]
  },
  {
   "cell_type": "code",
   "execution_count": 1,
   "id": "51823d62",
   "metadata": {},
   "outputs": [
    {
     "name": "stdout",
     "output_type": "stream",
     "text": [
      "Enter the list: (8, 2, 3, 0, 7)\n"
     ]
    },
    {
     "data": {
      "text/plain": [
       "20"
      ]
     },
     "execution_count": 1,
     "metadata": {},
     "output_type": "execute_result"
    }
   ],
   "source": [
    "def sum_function(list1):\n",
    "    total_sum = 0\n",
    "    for num in list1:\n",
    "        total_sum = total_sum + num\n",
    "    return total_sum\n",
    "\n",
    "list1 = eval(input(\"Enter the list: \"))\n",
    "sum_function(list1)"
   ]
  },
  {
   "cell_type": "code",
   "execution_count": null,
   "id": "268c2fc6",
   "metadata": {},
   "outputs": [],
   "source": []
  }
 ],
 "metadata": {
  "kernelspec": {
   "display_name": "Python 3 (ipykernel)",
   "language": "python",
   "name": "python3"
  },
  "language_info": {
   "codemirror_mode": {
    "name": "ipython",
    "version": 3
   },
   "file_extension": ".py",
   "mimetype": "text/x-python",
   "name": "python",
   "nbconvert_exporter": "python",
   "pygments_lexer": "ipython3",
   "version": "3.7.16"
  }
 },
 "nbformat": 4,
 "nbformat_minor": 5
}
