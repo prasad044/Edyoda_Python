{
 "cells": [
  {
   "cell_type": "markdown",
   "id": "8dc7fe45",
   "metadata": {},
   "source": [
    "## Assignment-1: Operators | Loops"
   ]
  },
  {
   "cell_type": "markdown",
   "id": "e865daa8",
   "metadata": {},
   "source": [
    "## Lets Play With Fibonacci"
   ]
  },
  {
   "cell_type": "markdown",
   "id": "9a8b58c5",
   "metadata": {},
   "source": [
    "## 1) Write a Python program to get the Fibonacci series between 0 to 50"
   ]
  },
  {
   "cell_type": "markdown",
   "id": "3a404718",
   "metadata": {},
   "source": [
    "#### Solution: Using While loop"
   ]
  },
  {
   "cell_type": "code",
   "execution_count": 1,
   "id": "852659de",
   "metadata": {},
   "outputs": [
    {
     "name": "stdout",
     "output_type": "stream",
     "text": [
      "0\n",
      "1\n",
      "1\n",
      "2\n",
      "3\n",
      "5\n",
      "8\n",
      "13\n",
      "21\n",
      "34\n"
     ]
    }
   ],
   "source": [
    "num1,num2 = 0,1\n",
    "print(num1)\n",
    "while num2<50:\n",
    "    print(num2)\n",
    "    num1,num2 = num2, num1+num2"
   ]
  },
  {
   "cell_type": "markdown",
   "id": "84bd391e",
   "metadata": {},
   "source": [
    "#### Solution: Using for loop for exact number of terms for Fibonacci Series"
   ]
  },
  {
   "cell_type": "code",
   "execution_count": 2,
   "id": "c660a300",
   "metadata": {},
   "outputs": [
    {
     "name": "stdout",
     "output_type": "stream",
     "text": [
      "Enter the number of terms you want the Fibonacci Series: 10\n",
      "0\n",
      "1\n",
      "1\n",
      "2\n",
      "3\n",
      "5\n",
      "8\n",
      "13\n",
      "21\n",
      "34\n"
     ]
    }
   ],
   "source": [
    "num = int(input(\"Enter the number of terms you want the Fibonacci Series: \"))\n",
    "First_val = 0\n",
    "Second_val = 1\n",
    "for n in range(0, num):\n",
    "    if(n <= 1):\n",
    "        next = n\n",
    "    else:\n",
    "        next = First_val + Second_val\n",
    "        First_val = Second_val\n",
    "        Second_val = next\n",
    "    print(next)"
   ]
  },
  {
   "cell_type": "code",
   "execution_count": null,
   "id": "3cecf884",
   "metadata": {},
   "outputs": [],
   "source": []
  }
 ],
 "metadata": {
  "kernelspec": {
   "display_name": "Python 3 (ipykernel)",
   "language": "python",
   "name": "python3"
  },
  "language_info": {
   "codemirror_mode": {
    "name": "ipython",
    "version": 3
   },
   "file_extension": ".py",
   "mimetype": "text/x-python",
   "name": "python",
   "nbconvert_exporter": "python",
   "pygments_lexer": "ipython3",
   "version": "3.7.16"
  }
 },
 "nbformat": 4,
 "nbformat_minor": 5
}
