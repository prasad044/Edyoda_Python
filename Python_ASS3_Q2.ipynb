{
 "cells": [
  {
   "cell_type": "markdown",
   "id": "bb64e98f",
   "metadata": {},
   "source": [
    "## Assignment-3: Functions | Modules"
   ]
  },
  {
   "cell_type": "markdown",
   "id": "849d8571",
   "metadata": {},
   "source": [
    "### Q2) Write a Python program to reverse a string."
   ]
  },
  {
   "cell_type": "markdown",
   "id": "d2d53510",
   "metadata": {},
   "source": [
    "#### Solution"
   ]
  },
  {
   "cell_type": "code",
   "execution_count": 1,
   "id": "8131c305",
   "metadata": {},
   "outputs": [
    {
     "name": "stdout",
     "output_type": "stream",
     "text": [
      "Enter the string: 1234abcd\n"
     ]
    },
    {
     "data": {
      "text/plain": [
       "'dcba4321'"
      ]
     },
     "execution_count": 1,
     "metadata": {},
     "output_type": "execute_result"
    }
   ],
   "source": [
    "def reverse_string(string):\n",
    "    rev_string = string[::-1]\n",
    "    return rev_string\n",
    "\n",
    "string = input(\"Enter the string: \")\n",
    "reverse_string(string)\n"
   ]
  },
  {
   "cell_type": "code",
   "execution_count": null,
   "id": "f6225441",
   "metadata": {},
   "outputs": [],
   "source": []
  }
 ],
 "metadata": {
  "kernelspec": {
   "display_name": "Python 3 (ipykernel)",
   "language": "python",
   "name": "python3"
  },
  "language_info": {
   "codemirror_mode": {
    "name": "ipython",
    "version": 3
   },
   "file_extension": ".py",
   "mimetype": "text/x-python",
   "name": "python",
   "nbconvert_exporter": "python",
   "pygments_lexer": "ipython3",
   "version": "3.7.16"
  }
 },
 "nbformat": 4,
 "nbformat_minor": 5
}
