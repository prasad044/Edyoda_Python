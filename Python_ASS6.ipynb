{
 "cells": [
  {
   "cell_type": "markdown",
   "id": "04624cbf",
   "metadata": {},
   "source": [
    "## Create an assignment for File handling of JSON files in Python"
   ]
  },
  {
   "cell_type": "markdown",
   "id": "2b15ca8e",
   "metadata": {},
   "source": [
    "### Assignment 1"
   ]
  },
  {
   "cell_type": "markdown",
   "id": "71d7b6e0",
   "metadata": {},
   "source": [
    "###  1. Create a JSON file (employee.json) containing employee information of minimum 5 employees. Each employee information consists of Name, DOB, Height, City, State. Write a python program that reads this information from the JSON file and saves the information into a list of objects of Employee class. Finally print the list of the Employee objects."
   ]
  },
  {
   "cell_type": "code",
   "execution_count": 3,
   "id": "1c8aab84",
   "metadata": {},
   "outputs": [
    {
     "name": "stdout",
     "output_type": "stream",
     "text": [
      "Name: Prasad Ligade, DOB: 1999-02-24, Height: 172, City: Pune, State: Maharashtra\n",
      "Name: Mahesh Babu, DOB: 1985-08-25, Height: 175, City: Hydrabad, State: Andra Pradesh\n",
      "Name: Ramesh Patil, DOB: 1992-03-10, Height: 178, City: Mumbai, State: Maharashtra\n",
      "Name: Gaurav Kapoor, DOB: 1988-11-05, Height: 168, City: Benglore, State: Karnataka\n",
      "Name: Ganesh Vathare, DOB: 1995-07-20, Height: 172, City: Chennai, State: Tamil Nadu\n"
     ]
    }
   ],
   "source": [
    "import json\n",
    "\n",
    "class Employee:\n",
    "    def __init__(self, name, dob, height, city, state):\n",
    "        self.name = name\n",
    "        self.dob = dob\n",
    "        self.height = height\n",
    "        self.city = city\n",
    "        self.state = state\n",
    "\n",
    "    def __str__(self):\n",
    "        return f\"Name: {self.name}, DOB: {self.dob}, Height: {self.height}, City: {self.city}, State: {self.state}\"\n",
    "\n",
    "with open('employee.json', 'r') as json_file:\n",
    "    employee_data = json.load(json_file)\n",
    "\n",
    "\n",
    "employees = []\n",
    "for employee_info in employee_data:\n",
    "    employee = Employee(\n",
    "        employee_info['Name'],\n",
    "        employee_info['DOB'],\n",
    "        employee_info['Height'],\n",
    "        employee_info['City'],\n",
    "        employee_info['State']\n",
    "    )\n",
    "    employees.append(employee)\n",
    "\n",
    "for employee in employees:\n",
    "    print(employee)\n"
   ]
  },
  {
   "cell_type": "markdown",
   "id": "6f926c1f",
   "metadata": {},
   "source": [
    "### 2. Create a dictionary of any 7 Indian states and their capitals. Write this into a JSON file."
   ]
  },
  {
   "cell_type": "code",
   "execution_count": 4,
   "id": "b98dcdbe",
   "metadata": {},
   "outputs": [
    {
     "name": "stdout",
     "output_type": "stream",
     "text": [
      "Data has been written to indian_states_and_capitals.json\n"
     ]
    }
   ],
   "source": [
    "import json\n",
    "\n",
    "indian_states_and_capitals = {\n",
    "    \"Andhra Pradesh\": \"Amaravati\",\n",
    "    \"Telangana\": \"Hyderabad\",\n",
    "    \"Tamil Nadu\": \"Chennai\",\n",
    "    \"Karnataka\": \"Bengaluru\",\n",
    "    \"Maharashtra\": \"Mumbai\",\n",
    "    \"Uttar Pradesh\": \"Lucknow\",\n",
    "    \"Rajasthan\": \"Jaipur\"\n",
    "}\n",
    "\n",
    "with open('indian_states_and_capitals.json', 'w') as json_file:\n",
    "    json.dump(indian_states_and_capitals, json_file, indent=4)\n",
    "\n",
    "print(\"Data has been written to indian_states_and_capitals.json\")\n"
   ]
  },
  {
   "cell_type": "markdown",
   "id": "f99d27d3",
   "metadata": {},
   "source": [
    "## Assignment 2"
   ]
  },
  {
   "cell_type": "markdown",
   "id": "cc9a331b",
   "metadata": {},
   "source": [
    "### 1. Create a class named ‘Dog’. It should have a constructor which accepts its name, age and coat color. You must perform the following operations:\n",
    "\n",
    "🔴 a. It should have a function ‘description()’ which prints the name and age of the dog.\n",
    "🔴 b. It should have a function ‘get_info()’ which prints the coat color of the dog.\n",
    "🔴 c. Create child classes ‘JackRussellTerrier’ and ‘Bulldog’ which is inherited from the class ‘Dog’. It should have at least two methods of its own.\n",
    "🔴 d. Create objects and implement the above functionalities."
   ]
  },
  {
   "cell_type": "code",
   "execution_count": 7,
   "id": "ac59909a",
   "metadata": {},
   "outputs": [
    {
     "name": "stdout",
     "output_type": "stream",
     "text": [
      "Tommy is 3 years old.\n",
      "Tommy's coat color is Black.\n",
      "Max is 2 years old.\n",
      "Max's coat color is White.\n",
      "Max the Jack Russell Terrier is barking!\n",
      "Max is hunting with a skill level of 8.\n",
      "Rocky is 4 years old.\n",
      "Rocky's coat color is Brown.\n",
      "Rocky the Bulldog is snoring loudly!\n",
      "Rocky's strength is 7.\n"
     ]
    }
   ],
   "source": [
    "class Dog:\n",
    "    def __init__(self, name, age, coat_color):\n",
    "        self.name = name\n",
    "        self.age = age\n",
    "        self.coat_color = coat_color\n",
    "\n",
    "    def description(self):\n",
    "        print(f\"{self.name} is {self.age} years old.\")\n",
    "\n",
    "    def get_info(self):\n",
    "        print(f\"{self.name}'s coat color is {self.coat_color}.\")\n",
    "\n",
    "class JackRussellTerrier(Dog):\n",
    "    def __init__(self, name, age, coat_color, hunting_skill_level):\n",
    "        super().__init__(name, age, coat_color)\n",
    "        self.hunting_skill_level = hunting_skill_level\n",
    "\n",
    "    def bark(self):\n",
    "        print(f\"{self.name} the Jack Russell Terrier is barking!\")\n",
    "\n",
    "    def hunt(self):\n",
    "        print(f\"{self.name} is hunting with a skill level of {self.hunting_skill_level}.\")\n",
    "\n",
    "class Bulldog(Dog):\n",
    "    def __init__(self, name, age, coat_color, strength):\n",
    "        super().__init__(name, age, coat_color)\n",
    "        self.strength = strength\n",
    "\n",
    "    def snore(self):\n",
    "        print(f\"{self.name} the Bulldog is snoring loudly!\")\n",
    "\n",
    "    def show_strength(self):\n",
    "        print(f\"{self.name}'s strength is {self.strength}.\")\n",
    "\n",
    "dog1 = Dog(\"Tommy\", 3, \"Black\")\n",
    "dog2 = JackRussellTerrier(\"Max\", 2, \"White\", 8)\n",
    "dog3 = Bulldog(\"Rocky\", 4, \"Brown\", 7)\n",
    "\n",
    "dog1.description()\n",
    "dog1.get_info()\n",
    "\n",
    "dog2.description()\n",
    "dog2.get_info()\n",
    "dog2.bark()\n",
    "dog2.hunt()\n",
    "\n",
    "dog3.description()\n",
    "dog3.get_info()\n",
    "dog3.snore()\n",
    "dog3.show_strength()\n"
   ]
  },
  {
   "cell_type": "code",
   "execution_count": null,
   "id": "eb8a8800",
   "metadata": {},
   "outputs": [],
   "source": []
  }
 ],
 "metadata": {
  "kernelspec": {
   "display_name": "Python 3 (ipykernel)",
   "language": "python",
   "name": "python3"
  },
  "language_info": {
   "codemirror_mode": {
    "name": "ipython",
    "version": 3
   },
   "file_extension": ".py",
   "mimetype": "text/x-python",
   "name": "python",
   "nbconvert_exporter": "python",
   "pygments_lexer": "ipython3",
   "version": "3.7.16"
  }
 },
 "nbformat": 4,
 "nbformat_minor": 5
}
