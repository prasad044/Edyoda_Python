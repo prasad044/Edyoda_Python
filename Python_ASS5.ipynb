{
 "cells": [
  {
   "cell_type": "markdown",
   "id": "e3d179e0",
   "metadata": {},
   "source": [
    "## OOP Assignment"
   ]
  },
  {
   "cell_type": "markdown",
   "id": "c8518b9c",
   "metadata": {},
   "source": [
    "### Challenge 1: Square Numbers and Return Their Sum"
   ]
  },
  {
   "cell_type": "code",
   "execution_count": 1,
   "id": "821e7f0f",
   "metadata": {},
   "outputs": [
    {
     "name": "stdout",
     "output_type": "stream",
     "text": [
      "Enter x: 1\n",
      "Enter y: 3\n",
      "Enter z: 5\n",
      "35\n"
     ]
    }
   ],
   "source": [
    "class Point:\n",
    "    def __init__(self, x, y, z):\n",
    "        self.x = x\n",
    "        self.y = y\n",
    "        self.z = z\n",
    "    \n",
    "    def sqSum(self):\n",
    "        return self.x**2 + self.y**2 + self.z**2\n",
    "\n",
    "x = eval(input(\"Enter x: \"))\n",
    "y = eval(input(\"Enter y: \"))\n",
    "z = eval(input(\"Enter z: \"))\n",
    "point = Point(x, y, z)\n",
    "\n",
    "\n",
    "result = point.sqSum()\n",
    "print(result)"
   ]
  },
  {
   "cell_type": "markdown",
   "id": "d47c5d5b",
   "metadata": {},
   "source": [
    "### Challenge 2: Implement a Calculator Class"
   ]
  },
  {
   "cell_type": "code",
   "execution_count": 2,
   "id": "5d496e10",
   "metadata": {},
   "outputs": [
    {
     "name": "stdout",
     "output_type": "stream",
     "text": [
      "Enter num1: 10\n",
      "Enter num2: 94\n",
      "Output Below:\n",
      "Addition:  104\n",
      "Subtraction:  84\n",
      "Multiplication:  940\n",
      "Division:  9.4\n"
     ]
    }
   ],
   "source": [
    "class Calculator:\n",
    "    def __init__(self, num1, num2):\n",
    "        self.num1 = num1\n",
    "        self.num2 = num2\n",
    "    \n",
    "    def add(self):\n",
    "        return self.num1 + self.num2\n",
    "    \n",
    "    def subtract(self):\n",
    "        return self.num2 - self.num1\n",
    "    \n",
    "    def multiply(self):\n",
    "        return self.num1 * self.num2\n",
    "    \n",
    "    def divide(self):\n",
    "        return self.num2 / self.num1\n",
    "\n",
    "num1 = eval(input(\"Enter num1: \"))\n",
    "num2 = eval(input(\"Enter num2: \"))\n",
    "obj = Calculator(num1, num2)\n",
    "print(\"Output Below:\")\n",
    "print(\"Addition: \",obj.add())      \n",
    "print(\"Subtraction: \",obj.subtract())  \n",
    "print(\"Multiplication: \",obj.multiply())  \n",
    "print(\"Division: \",obj.divide())  "
   ]
  },
  {
   "cell_type": "markdown",
   "id": "4b28599d",
   "metadata": {},
   "source": [
    "### Challenge 3: Implement the Complete Student Class"
   ]
  },
  {
   "cell_type": "code",
   "execution_count": 3,
   "id": "867f899e",
   "metadata": {},
   "outputs": [
    {
     "name": "stdout",
     "output_type": "stream",
     "text": [
      "Enter name: Prasad\n",
      "Enter RollNumber: 456\n",
      "Prasad\n",
      "456\n"
     ]
    }
   ],
   "source": [
    "class Student:\n",
    "    def __init__(self):\n",
    "        self.__name = None\n",
    "        self.__rollNumber = None\n",
    "    \n",
    "    def getName(self):\n",
    "        return self.__name\n",
    "    \n",
    "    def setName(self, name):\n",
    "        self.__name = name\n",
    "    \n",
    "    def getRollNumber(self):\n",
    "        return self.__rollNumber\n",
    "    \n",
    "    def setRollNumber(self, rollNumber):\n",
    "        self.__rollNumber = rollNumber\n",
    "\n",
    "student = Student()\n",
    "\n",
    "student.setName(input(\"Enter name: \"))\n",
    "student.setRollNumber(eval(input(\"Enter RollNumber: \")))\n",
    "\n",
    "print(student.getName())        \n",
    "print(student.getRollNumber())  \n"
   ]
  },
  {
   "cell_type": "markdown",
   "id": "8234c73a",
   "metadata": {},
   "source": [
    "### Challenge 4: Implement a Banking Account"
   ]
  },
  {
   "cell_type": "code",
   "execution_count": 4,
   "id": "ed461856",
   "metadata": {},
   "outputs": [
    {
     "name": "stdout",
     "output_type": "stream",
     "text": [
      "Ashish\n",
      "5000\n",
      "Ashish\n",
      "5000\n",
      "5\n"
     ]
    }
   ],
   "source": [
    "class Account:\n",
    "    def __init__(self, title, balance):\n",
    "        self.title = title\n",
    "        self.balance = balance\n",
    "\n",
    "class SavingsAccount(Account):\n",
    "    def __init__(self, title, balance, interestRate):\n",
    "        super().__init__(title, balance)\n",
    "        self.interestRate = interestRate\n",
    "\n",
    "# Task: Create an initializer for Account class. The order of parameters should be the following, where Ashish is the title, and 5000 is the account balance:\n",
    "account = Account(\"Ashish\", 5000)\n",
    "\n",
    "# Task\n",
    "savings_account = SavingsAccount(\"Ashish\", 5000, 5)\n",
    "\n",
    "print(account.title)  \n",
    "print(account.balance) \n",
    "\n",
    "print(savings_account.title)  \n",
    "print(savings_account.balance)  \n",
    "print(savings_account.interestRate) \n"
   ]
  },
  {
   "cell_type": "markdown",
   "id": "68cfe068",
   "metadata": {},
   "source": [
    "### Challenge 5: Handling a Bank Account"
   ]
  },
  {
   "cell_type": "code",
   "execution_count": 5,
   "id": "1a755c32",
   "metadata": {},
   "outputs": [
    {
     "name": "stdout",
     "output_type": "stream",
     "text": [
      "Enter name: Prasad\n",
      "Enter balance: 2000\n",
      "Balance available:  2000\n",
      "\n",
      "\n",
      "Enter balance: 2000\n",
      "Enter amount of deposit: 500\n",
      "After adding deposit:  2500\n",
      "\n",
      "\n",
      "Enter balance: 2000\n",
      "Enter amount of withdrawal: 500\n",
      "After withdrawal:  1500\n",
      "\n",
      "\n",
      "Enter balance: 2000\n",
      "Enter interestRate: 5\n",
      "InterestAmount:  100.0\n"
     ]
    }
   ],
   "source": [
    "class Account:\n",
    "    def __init__(self, title, balance):\n",
    "        self.title = title\n",
    "        self.balance = balance\n",
    "\n",
    "    def getBalance(self):\n",
    "        return self.balance\n",
    "\n",
    "    def deposit(self, amount):\n",
    "        self.balance += amount\n",
    "\n",
    "    def withdrawal(self, amount):\n",
    "        self.balance -= amount\n",
    "\n",
    "class SavingsAccount(Account):\n",
    "    def __init__(self, title, balance, interestRate):\n",
    "        super().__init__(title, balance)\n",
    "        self.interestRate = interestRate\n",
    "\n",
    "    def interestAmount(self):\n",
    "        return (self.balance * self.interestRate) / 100\n",
    "\n",
    "name = input(\"Enter name: \")\n",
    "balance = eval(input(\"Enter balance: \"))\n",
    "account = Account(name, balance)\n",
    "\n",
    "# Task1: In the Account class, implement the getBalance() method that returns balance.\n",
    "\n",
    "print(\"Balance available: \",account.getBalance())\n",
    "print(\"\\n\")\n",
    "\n",
    "# Task2: In the Account class, implement the deposit(amount) method that adds amount to the balance.\n",
    "\n",
    "balance = eval(input(\"Enter balance: \"))\n",
    "account = Account(name, balance)\n",
    "amount = eval(input(\"Enter amount of deposit: \"))\n",
    "account.deposit(amount)\n",
    "print(\"After adding deposit: \",account.getBalance()) \n",
    "print(\"\\n\")\n",
    "\n",
    "# Task 3: In the Account class, implement the withdrawal(amount) method that subtracts the amount from the balance.\n",
    "\n",
    "balance = eval(input(\"Enter balance: \"))\n",
    "account = Account(name, balance)\n",
    "amount = eval(input(\"Enter amount of withdrawal: \"))\n",
    "account.withdrawal(amount)\n",
    "print(\"After withdrawal: \",account.getBalance()) \n",
    "print(\"\\n\")\n",
    "\n",
    "# Task 4: In the SavingsAccount class, implement an interestAmount() method that returns the interest amount of the current balance.\n",
    "\n",
    "balance = eval(input(\"Enter balance: \"))\n",
    "amount = eval(input(\"Enter interestRate: \"))\n",
    "savings_account = SavingsAccount(name, balance, amount)\n",
    "interest_amt = savings_account.interestAmount()\n",
    "print(\"InterestAmount: \",interest_amt)  \n"
   ]
  },
  {
   "cell_type": "code",
   "execution_count": null,
   "id": "707fb54e",
   "metadata": {},
   "outputs": [],
   "source": []
  }
 ],
 "metadata": {
  "kernelspec": {
   "display_name": "Python 3 (ipykernel)",
   "language": "python",
   "name": "python3"
  },
  "language_info": {
   "codemirror_mode": {
    "name": "ipython",
    "version": 3
   },
   "file_extension": ".py",
   "mimetype": "text/x-python",
   "name": "python",
   "nbconvert_exporter": "python",
   "pygments_lexer": "ipython3",
   "version": "3.7.16"
  }
 },
 "nbformat": 4,
 "nbformat_minor": 5
}
