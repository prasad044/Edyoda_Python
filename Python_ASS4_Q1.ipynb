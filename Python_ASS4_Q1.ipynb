{
 "cells": [
  {
   "cell_type": "markdown",
   "id": "dd5ffb8a",
   "metadata": {},
   "source": [
    "## Assignment-4: Map | Filter | Lambda"
   ]
  },
  {
   "cell_type": "markdown",
   "id": "d7defb23",
   "metadata": {},
   "source": [
    "### Q1) Write a Python program to create a lambda function that adds 25 to a given number passed in as an argument."
   ]
  },
  {
   "cell_type": "code",
   "execution_count": 1,
   "id": "817a8645",
   "metadata": {},
   "outputs": [
    {
     "name": "stdout",
     "output_type": "stream",
     "text": [
      "Enter a number: 10\n",
      "Output:  35\n"
     ]
    }
   ],
   "source": [
    "def add(num):\n",
    "    addition_25 = lambda num: num + 25\n",
    "    print(\"Output: \",addition_25(num))\n",
    "num = eval(input(\"Enter a number: \"))\n",
    "add(num)"
   ]
  },
  {
   "cell_type": "code",
   "execution_count": null,
   "id": "88b70093",
   "metadata": {},
   "outputs": [],
   "source": []
  }
 ],
 "metadata": {
  "kernelspec": {
   "display_name": "Python 3 (ipykernel)",
   "language": "python",
   "name": "python3"
  },
  "language_info": {
   "codemirror_mode": {
    "name": "ipython",
    "version": 3
   },
   "file_extension": ".py",
   "mimetype": "text/x-python",
   "name": "python",
   "nbconvert_exporter": "python",
   "pygments_lexer": "ipython3",
   "version": "3.7.16"
  }
 },
 "nbformat": 4,
 "nbformat_minor": 5
}
