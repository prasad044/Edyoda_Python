{
 "cells": [
  {
   "cell_type": "markdown",
   "id": "bedab331",
   "metadata": {},
   "source": [
    "## Mini Project"
   ]
  },
  {
   "cell_type": "markdown",
   "id": "b6aaef5b",
   "metadata": {},
   "source": [
    "### Flower Shop Ordering To Go - Create a flower shop application which deals in flower objects and use those flower objects in a bouquet object which can then be sold. Keep track of the number of objects and when you may need to order more."
   ]
  },
  {
   "cell_type": "code",
   "execution_count": 1,
   "id": "653ea35f",
   "metadata": {},
   "outputs": [
    {
     "name": "stdout",
     "output_type": "stream",
     "text": [
      "Enter flower name (or 'done' to finish): rose\n",
      "Enter quantity of rose: 3\n",
      "Enter flower name (or 'done' to finish): lily\n",
      "Enter quantity of lily: 2\n",
      "Enter flower name (or 'done' to finish): done\n",
      "Bouquet Contents:\n",
      "rose - Quantity: 3\n",
      "lily - Quantity: 2\n",
      "Total Cost: $11.50\n",
      "Current Inventory:\n",
      "rose - Price: $2.50, Quantity: 47\n",
      "tulip - Price: $1.75, Quantity: 30\n",
      "lily - Price: $2.00, Quantity: 38\n"
     ]
    }
   ],
   "source": [
    "class Flower:\n",
    "    def __init__(self, name, price, quantity):\n",
    "        self.name = name\n",
    "        self.price = price\n",
    "        self.quantity = quantity\n",
    "\n",
    "    def update_quantity(self, quantity):\n",
    "        self.quantity += quantity\n",
    "\n",
    "    def __str__(self):\n",
    "        return f\"{self.name} - Price: ${self.price:.2f}, Quantity: {self.quantity}\"\n",
    "\n",
    "class Bouquet:\n",
    "    def __init__(self):\n",
    "        self.flowers = []\n",
    "\n",
    "    def add_flower(self, flower, quantity):\n",
    "        if flower.quantity >= quantity:\n",
    "            self.flowers.append((flower, quantity))\n",
    "            flower.update_quantity(-quantity)\n",
    "            return True\n",
    "        else:\n",
    "            print(f\"Not enough {flower.name} in stock.\")\n",
    "            return False\n",
    "\n",
    "    def calculate_cost(self):\n",
    "        total_cost = 0\n",
    "        for flower, quantity in self.flowers:\n",
    "            total_cost += flower.price * quantity\n",
    "        return total_cost\n",
    "\n",
    "    def __str__(self):\n",
    "        bouquet_str = \"Bouquet Contents:\\n\"\n",
    "        for flower, quantity in self.flowers:\n",
    "            bouquet_str += f\"{flower.name} - Quantity: {quantity}\\n\"\n",
    "        bouquet_str += f\"Total Cost: ${self.calculate_cost():.2f}\"\n",
    "        return bouquet_str\n",
    "\n",
    "class FlowerShop:\n",
    "    def __init__(self):\n",
    "        self.flowers = []\n",
    "\n",
    "    def add_flower(self, name, price, quantity):\n",
    "        flower = self.find_flower_by_name(name)\n",
    "        if flower:\n",
    "            flower.update_quantity(quantity)\n",
    "        else:\n",
    "            self.flowers.append(Flower(name, price, quantity))\n",
    "\n",
    "    def find_flower_by_name(self, name):\n",
    "        for flower in self.flowers:\n",
    "            if flower.name == name:\n",
    "                return flower\n",
    "        return None\n",
    "\n",
    "    def create_bouquet(self):\n",
    "        bouquet = Bouquet()\n",
    "        while True:\n",
    "            flower_name = input(\"Enter flower name (or 'done' to finish): \").strip().lower()\n",
    "            if flower_name == 'done':\n",
    "                break\n",
    "            flower = self.find_flower_by_name(flower_name)\n",
    "            if flower:\n",
    "                quantity = int(input(f\"Enter quantity of {flower_name}: \"))\n",
    "                bouquet.add_flower(flower, quantity)\n",
    "            else:\n",
    "                print(f\"Flower '{flower_name}' not found in the shop.\")\n",
    "        return bouquet\n",
    "\n",
    "    def check_inventory(self):\n",
    "        print(\"Current Inventory:\")\n",
    "        for flower in self.flowers:\n",
    "            print(flower)\n",
    "\n",
    "# Example usage:\n",
    "\n",
    "flower_shop = FlowerShop()\n",
    "\n",
    "# Add flowers to the shop's inventory\n",
    "flower_shop.add_flower(\"rose\", 2.5, 50)\n",
    "flower_shop.add_flower(\"tulip\", 1.75, 30)\n",
    "flower_shop.add_flower(\"lily\", 2.0, 40)\n",
    "\n",
    "# Create a bouquet\n",
    "bouquet = flower_shop.create_bouquet()\n",
    "\n",
    "# Check the cost of the bouquet\n",
    "print(bouquet)\n",
    "\n",
    "# Check the shop's inventory\n",
    "flower_shop.check_inventory()\n"
   ]
  },
  {
   "cell_type": "code",
   "execution_count": null,
   "id": "df53d407",
   "metadata": {},
   "outputs": [],
   "source": []
  }
 ],
 "metadata": {
  "kernelspec": {
   "display_name": "Python 3 (ipykernel)",
   "language": "python",
   "name": "python3"
  },
  "language_info": {
   "codemirror_mode": {
    "name": "ipython",
    "version": 3
   },
   "file_extension": ".py",
   "mimetype": "text/x-python",
   "name": "python",
   "nbconvert_exporter": "python",
   "pygments_lexer": "ipython3",
   "version": "3.7.16"
  }
 },
 "nbformat": 4,
 "nbformat_minor": 5
}
