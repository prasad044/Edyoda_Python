{
 "cells": [
  {
   "cell_type": "markdown",
   "id": "f8c205af",
   "metadata": {},
   "source": [
    "## Assignment-4: Map | Filter | Lambda"
   ]
  },
  {
   "cell_type": "markdown",
   "id": "f8efa99d",
   "metadata": {},
   "source": [
    "### Q3) Write a Python program to square the elements of a list using map() function."
   ]
  },
  {
   "cell_type": "code",
   "execution_count": 1,
   "id": "712c1854",
   "metadata": {},
   "outputs": [
    {
     "name": "stdout",
     "output_type": "stream",
     "text": [
      "Please enter list:\n",
      "[4, 5, 2, 9]\n",
      "Square the elements of the list:\n",
      " [16, 25, 4, 81]\n"
     ]
    }
   ],
   "source": [
    "def square(num):\n",
    "    return num ** 2\n",
    "\n",
    "list1 = eval(input(\"Please enter list:\\n\"))\n",
    "\n",
    "squared_numbers = list(map(square, list1))\n",
    "print(\"Square the elements of the list:\\n\",squared_numbers)"
   ]
  },
  {
   "cell_type": "code",
   "execution_count": null,
   "id": "fcf8c0f4",
   "metadata": {},
   "outputs": [],
   "source": []
  }
 ],
 "metadata": {
  "kernelspec": {
   "display_name": "Python 3 (ipykernel)",
   "language": "python",
   "name": "python3"
  },
  "language_info": {
   "codemirror_mode": {
    "name": "ipython",
    "version": 3
   },
   "file_extension": ".py",
   "mimetype": "text/x-python",
   "name": "python",
   "nbconvert_exporter": "python",
   "pygments_lexer": "ipython3",
   "version": "3.7.16"
  }
 },
 "nbformat": 4,
 "nbformat_minor": 5
}
