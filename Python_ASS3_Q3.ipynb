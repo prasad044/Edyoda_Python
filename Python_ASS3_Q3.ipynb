{
 "cells": [
  {
   "cell_type": "markdown",
   "id": "0b5af49d",
   "metadata": {},
   "source": [
    "## Assignment-3: Functions | Modules"
   ]
  },
  {
   "cell_type": "markdown",
   "id": "ddeea6c7",
   "metadata": {},
   "source": [
    "### Q3) Write a Python function that accepts a string and calculate the number of upper case letters and lower case letters."
   ]
  },
  {
   "cell_type": "code",
   "execution_count": 1,
   "id": "69195cfb",
   "metadata": {},
   "outputs": [
    {
     "name": "stdout",
     "output_type": "stream",
     "text": [
      "Enter the string: The quick Brow Fox\n",
      "UpperCase letter in the String:  3\n",
      "LowerCase letter in the String:  12\n"
     ]
    }
   ],
   "source": [
    "def string_case(string):\n",
    "    upper_count = 0\n",
    "    lower_count = 0\n",
    "\n",
    "    for letter in string:\n",
    "        if letter >='a' and letter <='z':\n",
    "            lower_count +=1\n",
    "        if letter >='A' and letter <= 'Z':\n",
    "            upper_count +=1\n",
    "    print(\"UpperCase letter in the String: \",upper_count)\n",
    "    print(\"LowerCase letter in the String: \",lower_count)\n",
    "    \n",
    "    \n",
    "string = input(\"Enter the string: \")\n",
    "string_case(string)\n",
    "    "
   ]
  },
  {
   "cell_type": "code",
   "execution_count": null,
   "id": "dccfa255",
   "metadata": {},
   "outputs": [],
   "source": []
  },
  {
   "cell_type": "code",
   "execution_count": null,
   "id": "f7c96d53",
   "metadata": {},
   "outputs": [],
   "source": []
  }
 ],
 "metadata": {
  "kernelspec": {
   "display_name": "Python 3 (ipykernel)",
   "language": "python",
   "name": "python3"
  },
  "language_info": {
   "codemirror_mode": {
    "name": "ipython",
    "version": 3
   },
   "file_extension": ".py",
   "mimetype": "text/x-python",
   "name": "python",
   "nbconvert_exporter": "python",
   "pygments_lexer": "ipython3",
   "version": "3.7.16"
  }
 },
 "nbformat": 4,
 "nbformat_minor": 5
}
