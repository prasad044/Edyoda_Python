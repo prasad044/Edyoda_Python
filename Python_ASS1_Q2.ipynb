{
 "cells": [
  {
   "cell_type": "markdown",
   "id": "cfe12fce",
   "metadata": {},
   "source": [
    "## Assignment-1: Operators | Loops"
   ]
  },
  {
   "cell_type": "markdown",
   "id": "0a64cee4",
   "metadata": {},
   "source": [
    "### Send the Words To Mirror Dimension"
   ]
  },
  {
   "cell_type": "markdown",
   "id": "2107f3a1",
   "metadata": {},
   "source": [
    "### 2) Write a Python program that accepts a word from the user and reverse it."
   ]
  },
  {
   "cell_type": "markdown",
   "id": "c627fc3e",
   "metadata": {},
   "source": [
    "#### For reversal of word"
   ]
  },
  {
   "cell_type": "code",
   "execution_count": 1,
   "id": "7eb7ed66",
   "metadata": {},
   "outputs": [
    {
     "name": "stdout",
     "output_type": "stream",
     "text": [
      "Input: Edyoda\n",
      "Output: adoydE\n"
     ]
    }
   ],
   "source": [
    "name = input(\"Input: \")\n",
    "print(\"Output:\", name[::-1])"
   ]
  },
  {
   "cell_type": "markdown",
   "id": "4bfb7346",
   "metadata": {},
   "source": [
    "#### using for loop"
   ]
  },
  {
   "cell_type": "code",
   "execution_count": 2,
   "id": "c4b8c6f9",
   "metadata": {},
   "outputs": [
    {
     "name": "stdout",
     "output_type": "stream",
     "text": [
      "Input a word to reverse: Edyoda\n",
      "adoydE"
     ]
    }
   ],
   "source": [
    "word = input(\"Input a word to reverse: \")\n",
    "\n",
    "for char in range(len(word) - 1, -1, -1):\n",
    "    print(word[char], end=\"\")"
   ]
  },
  {
   "cell_type": "code",
   "execution_count": null,
   "id": "7cabcf72",
   "metadata": {},
   "outputs": [],
   "source": []
  }
 ],
 "metadata": {
  "kernelspec": {
   "display_name": "Python 3 (ipykernel)",
   "language": "python",
   "name": "python3"
  },
  "language_info": {
   "codemirror_mode": {
    "name": "ipython",
    "version": 3
   },
   "file_extension": ".py",
   "mimetype": "text/x-python",
   "name": "python",
   "nbconvert_exporter": "python",
   "pygments_lexer": "ipython3",
   "version": "3.7.16"
  }
 },
 "nbformat": 4,
 "nbformat_minor": 5
}
