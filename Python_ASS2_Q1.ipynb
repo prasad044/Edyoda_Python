{
 "cells": [
  {
   "cell_type": "markdown",
   "id": "c448c2c9",
   "metadata": {},
   "source": [
    "## Assignment-2: List | Tuples | Dictionaries"
   ]
  },
  {
   "cell_type": "markdown",
   "id": "1848f68b",
   "metadata": {},
   "source": [
    "### Q1) Write a Python program to get a list, sorted in increasing order by the last element in each tuple from a given list of non-empty tuples"
   ]
  },
  {
   "cell_type": "code",
   "execution_count": 1,
   "id": "2473c08e",
   "metadata": {},
   "outputs": [
    {
     "name": "stdout",
     "output_type": "stream",
     "text": [
      "Enter a list of tuples: [(2, 5), (1, 2), (4, 4), (2, 3), (2, 1)]\n",
      "Expected output:  [(2, 1), (1, 2), (2, 3), (4, 4), (2, 5)]\n"
     ]
    }
   ],
   "source": [
    "tup = eval(input(\"Enter a list of tuples: \"))\n",
    "length = len(tup)\n",
    "for i in range(0, length):\n",
    "\n",
    "    for j in range(0, length-i-1):\n",
    "         if (tup[j][-1] > tup[j + 1][-1]):\n",
    "            temp = tup[j]\n",
    "            tup[j]= tup[j + 1]\n",
    "            tup[j + 1]= temp\n",
    "print(\"Expected output: \", tup)"
   ]
  },
  {
   "cell_type": "code",
   "execution_count": null,
   "id": "af9e0237",
   "metadata": {},
   "outputs": [],
   "source": []
  }
 ],
 "metadata": {
  "kernelspec": {
   "display_name": "Python 3 (ipykernel)",
   "language": "python",
   "name": "python3"
  },
  "language_info": {
   "codemirror_mode": {
    "name": "ipython",
    "version": 3
   },
   "file_extension": ".py",
   "mimetype": "text/x-python",
   "name": "python",
   "nbconvert_exporter": "python",
   "pygments_lexer": "ipython3",
   "version": "3.7.16"
  }
 },
 "nbformat": 4,
 "nbformat_minor": 5
}
